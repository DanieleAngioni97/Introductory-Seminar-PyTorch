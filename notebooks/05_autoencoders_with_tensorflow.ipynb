{
  "nbformat": 4,
  "nbformat_minor": 0,
  "metadata": {
    "colab": {
      "provenance": [],
      "toc_visible": true,
      "include_colab_link": true
    },
    "kernelspec": {
      "name": "python3",
      "display_name": "Python 3"
    },
    "accelerator": "GPU"
  },
  "cells": [
    {
      "cell_type": "markdown",
      "metadata": {
        "id": "view-in-github",
        "colab_type": "text"
      },
      "source": [
        "<a href=\"https://colab.research.google.com/github/DanieleAngioni97/Introductory-Seminar-PyTorch/blob/main/notebooks/05_autoencoders_with_tensorflow.ipynb\" target=\"_parent\"><img src=\"https://colab.research.google.com/assets/colab-badge.svg\" alt=\"Open In Colab\"/></a>"
      ]
    },
    {
      "cell_type": "markdown",
      "metadata": {
        "id": "2J00C21iXHh4"
      },
      "source": [
        "# **Loading the MNIST dataset and preparing the noisy data**"
      ]
    },
    {
      "cell_type": "code",
      "source": [
        "import tensorflow as tf\n",
        "import matplotlib.pyplot as plt\n",
        "import numpy as np\n",
        "\n",
        "(x_train, _), (x_test, _) = tf.keras.datasets.mnist.load_data()\n",
        "x_train = x_train.astype('float32') / 255.\n",
        "x_test = x_test.astype('float32') / 255.\n",
        "\n",
        "# Make sure images have shape (28, 28, 1)\n",
        "x_train = np.expand_dims(x_train, -1)\n",
        "x_test = np.expand_dims(x_test, -1)\n",
        "\n",
        "print(x_train.shape)\n",
        "print(x_test.shape)\n",
        "print(type(x_train))"
      ],
      "metadata": {
        "colab": {
          "base_uri": "https://localhost:8080/"
        },
        "id": "2XPWzmkFwsXA",
        "outputId": "5d9396fc-a2bc-49ff-965c-1bb44abe2dde"
      },
      "execution_count": null,
      "outputs": [
        {
          "output_type": "stream",
          "name": "stdout",
          "text": [
            "Downloading data from https://storage.googleapis.com/tensorflow/tf-keras-datasets/mnist.npz\n",
            "11490434/11490434 [==============================] - 2s 0us/step\n",
            "(60000, 28, 28, 1)\n",
            "(10000, 28, 28, 1)\n",
            "<class 'numpy.ndarray'>\n"
          ]
        }
      ]
    },
    {
      "cell_type": "code",
      "metadata": {
        "id": "GSi36GBwlUb_"
      },
      "source": [
        "noise_factor = 0.3\n",
        "#loc and scale being mean and std\n",
        "x_train_noisy = x_train + noise_factor * np.random.normal(loc=0.0,\n",
        "                                                          scale=1.0,\n",
        "                                                          size=x_train.shape)\n",
        "x_test_noisy = x_test + noise_factor * np.random.normal(loc=0.0,\n",
        "                                                        scale=1.0,\n",
        "                                                        size=x_test.shape)\n",
        "\n",
        "#clip pixel under 0 and above 1\n",
        "x_train_noisy = np.clip(x_train_noisy, 0., 1.)\n",
        "x_test_noisy = np.clip(x_test_noisy, 0., 1.)"
      ],
      "execution_count": null,
      "outputs": []
    },
    {
      "cell_type": "code",
      "source": [
        "n_images = 5       #images to be visualized\n",
        "bias = 0    #starting index from the test set for the visualization\n",
        "fig, axs = plt.subplots(nrows=2, ncols=n_images, figsize=(10, 5))\n",
        "for i in range(n_images):\n",
        "    axs[0, i].imshow(x_test[bias + i], cmap='gray')\n",
        "    axs[0, i].get_xaxis().set_visible(False)\n",
        "    axs[0, i].get_yaxis().set_visible(False)\n",
        "\n",
        "    axs[1, i].imshow(x_test_noisy[bias + i], cmap='gray')\n",
        "    axs[1, i].get_xaxis().set_visible(False)\n",
        "    axs[1, i].get_yaxis().set_visible(False)\n",
        "\n",
        "fig.tight_layout()\n",
        "fig.show()"
      ],
      "metadata": {
        "colab": {
          "base_uri": "https://localhost:8080/",
          "height": 440
        },
        "id": "jnMD525G0LOf",
        "outputId": "0d4a03cb-c1c9-45e0-bf44-9a102863b1ae"
      },
      "execution_count": null,
      "outputs": [
        {
          "output_type": "display_data",
          "data": {
            "text/plain": [
              "<Figure size 1000x500 with 10 Axes>"
            ],
            "image/png": "[encoded data removed]"
          },
          "metadata": {}
        }
      ]
    },
    {
      "cell_type": "markdown",
      "metadata": {
        "id": "sEJ5sMk7Xyic"
      },
      "source": [
        "# **Architecture of the network**"
      ]
    },
    {
      "cell_type": "code",
      "source": [
        "from keras.layers import Input, Conv2D, AveragePooling2D, UpSampling2D\n",
        "from keras.models import Model\n",
        "def create_autoencoder():\n",
        "    encoder = tf.keras.models.Sequential([\n",
        "        Conv2D(32, (5, 5), activation='relu', padding='same'),\n",
        "        Conv2D(32, (5, 5), activation='relu', padding='same'),\n",
        "        AveragePooling2D((2, 2), padding='same'), #14x14\n",
        "        Conv2D(64, (3, 3), activation='relu', padding='same'),\n",
        "        Conv2D(64, (3, 3), activation='relu', padding='same'),\n",
        "        AveragePooling2D((2, 2), padding='same'),   #7x7\n",
        "        Conv2D(128, (3, 3), activation='relu', padding='same')\n",
        "    ])\n",
        "    # latent representation has shape (7, 7, 128)\n",
        "    decoder = tf.keras.models.Sequential([\n",
        "        Conv2D(128, (3, 3), activation='relu', padding='same'),\n",
        "        UpSampling2D((2, 2)), #14x14\n",
        "        Conv2D(64, (5, 5), activation='relu', padding='same'),\n",
        "        Conv2D(64, (5, 5), activation='relu', padding='same'),\n",
        "        UpSampling2D((2, 2)), #28x28\n",
        "        Conv2D(32, (5, 5), activation='relu', padding='same'),\n",
        "        Conv2D(32, (5, 5), activation='relu', padding='same'),\n",
        "        Conv2D(1, (3, 3), activation='relu', padding='same')\n",
        "    ])\n",
        "    autoencoder = tf.keras.models.Sequential([encoder, decoder])\n",
        "    return autoencoder\n",
        "\n",
        "autoencoder = create_autoencoder()\n",
        "out = autoencoder.predict(x_test[:1])\n",
        "print(out.shape)\n",
        "plt.imshow(out[0], cmap='gray')"
      ],
      "metadata": {
        "colab": {
          "base_uri": "https://localhost:8080/",
          "height": 484
        },
        "id": "QQRTsNtcV7B0",
        "outputId": "33281cbf-feb3-40b0-8703-fa2aef67d8a3"
      },
      "execution_count": null,
      "outputs": [
        {
          "output_type": "stream",
          "name": "stdout",
          "text": [
            "1/1 [==============================] - 0s 340ms/step\n",
            "(1, 28, 28, 1)\n"
          ]
        },
        {
          "output_type": "execute_result",
          "data": {
            "text/plain": [
              "<matplotlib.image.AxesImage at 0x7d015cf64280>"
            ]
          },
          "metadata": {},
          "execution_count": 49
        },
        {
          "output_type": "display_data",
          "data": {
            "text/plain": [
              "<Figure size 640x480 with 1 Axes>"
            ],
            "image/png": "[encoded data removed]"
          },
          "metadata": {}
        }
      ]
    },
    {
      "cell_type": "markdown",
      "metadata": {
        "id": "Z2tuMfHvX8PO"
      },
      "source": [
        "# **Training the autoencoder**"
      ]
    },
    {
      "cell_type": "code",
      "metadata": {
        "id": "VASX2MblhnCG",
        "colab": {
          "base_uri": "https://localhost:8080/"
        },
        "outputId": "48b21fc1-8aab-4824-be7e-858806a56684"
      },
      "source": [
        "from keras.optimizers import Adam, SGD\n",
        "from keras.losses import MeanSquaredError\n",
        "\n",
        "epochs = 10\n",
        "autoencoder = create_autoencoder()  #create the architecture\n",
        "optim = SGD(learning_rate=0.001, momentum=0.9)\n",
        "loss = MeanSquaredError()\n",
        "autoencoder.compile(optimizer=optim, loss=loss)\n",
        "\n",
        "autoencoder.fit(x_train_noisy, x_train,\n",
        "                epochs=10,\n",
        "                batch_size=128,\n",
        "                shuffle=True,\n",
        "                verbose=2,\n",
        "                validation_data=(x_test_noisy, x_test))\n",
        "autoencoder.save_weights(\"autoencoder.h5\")"
      ],
      "execution_count": null,
      "outputs": [
        {
          "output_type": "stream",
          "name": "stdout",
          "text": [
            "Epoch 1/10\n",
            "469/469 - 13s - loss: 0.0745 - val_loss: 0.0575 - 13s/epoch - 28ms/step\n",
            "Epoch 2/10\n",
            "469/469 - 11s - loss: 0.0484 - val_loss: 0.0403 - 11s/epoch - 24ms/step\n",
            "Epoch 3/10\n",
            "469/469 - 11s - loss: 0.0362 - val_loss: 0.0320 - 11s/epoch - 24ms/step\n",
            "Epoch 4/10\n",
            "469/469 - 11s - loss: 0.0294 - val_loss: 0.0266 - 11s/epoch - 24ms/step\n",
            "Epoch 5/10\n",
            "469/469 - 11s - loss: 0.0253 - val_loss: 0.0234 - 11s/epoch - 25ms/step\n",
            "Epoch 6/10\n",
            "469/469 - 12s - loss: 0.0226 - val_loss: 0.0212 - 12s/epoch - 25ms/step\n",
            "Epoch 7/10\n",
            "469/469 - 11s - loss: 0.0208 - val_loss: 0.0196 - 11s/epoch - 24ms/step\n",
            "Epoch 8/10\n",
            "469/469 - 11s - loss: 0.0194 - val_loss: 0.0185 - 11s/epoch - 24ms/step\n",
            "Epoch 9/10\n",
            "469/469 - 12s - loss: 0.0184 - val_loss: 0.0176 - 12s/epoch - 25ms/step\n",
            "Epoch 10/10\n",
            "469/469 - 12s - loss: 0.0175 - val_loss: 0.0168 - 12s/epoch - 25ms/step\n"
          ]
        }
      ]
    },
    {
      "cell_type": "markdown",
      "metadata": {
        "id": "f4Z6mS2TsOGr"
      },
      "source": [
        "# **Evaluate the model**"
      ]
    },
    {
      "cell_type": "code",
      "metadata": {
        "id": "hS0Gb8gM5IKB",
        "colab": {
          "base_uri": "https://localhost:8080/",
          "height": 655
        },
        "outputId": "dc839c34-122a-48d2-b664-f3db5a5b82d4"
      },
      "source": [
        "autoencoder = create_autoencoder()  # instantiate the autoencoder model\n",
        "out = autoencoder.predict(x_test[:1])   # build the graph\n",
        "autoencoder.load_weights(\"autoencoder.h5\")  # load the pretrained weights\n",
        "\n",
        "n_images = 4 #images to be visualized\n",
        "bias = 15 #starting index from the test set for the visualization\n",
        "plt.figure(figsize=(40, 20))\n",
        "\n",
        "input_images = x_test_noisy[bias : bias + n_images]\n",
        "target_images = x_test[bias : bias + n_images]\n",
        "output_imgs = autoencoder.predict(x_test_noisy[bias : bias + n_images])\n",
        "output_imgs = np.clip(output_imgs, 0., 1.)\n",
        "\n",
        "nrows = 3\n",
        "figdim = 2\n",
        "fig, axs = plt.subplots(nrows=nrows, ncols=n_images, figsize=(figdim*n_images, figdim*nrows))\n",
        "\n",
        "for i in range(n_images):\n",
        "    axs[0, i].imshow(target_images[i], cmap='gray')\n",
        "    axs[0, i].set_yticklabels([])\n",
        "    axs[0, i].set_xticklabels([])\n",
        "\n",
        "    axs[1, i].imshow(input_images[i], cmap='gray')\n",
        "    axs[1, i].set_yticklabels([])\n",
        "    axs[1, i].set_xticklabels([])\n",
        "\n",
        "    axs[2, i].imshow(output_imgs[i], cmap='gray')\n",
        "    axs[2, i].set_yticklabels([])\n",
        "    axs[2, i].set_xticklabels([])\n",
        "\n",
        "axs[0, 0].set_ylabel('Image')\n",
        "axs[1, 0].set_ylabel('Noisy Image')\n",
        "axs[2, 0].set_ylabel('Reconstructed')\n",
        "\n",
        "fig.tight_layout()\n",
        "fig.show()"
      ],
      "execution_count": null,
      "outputs": [
        {
          "output_type": "stream",
          "name": "stdout",
          "text": [
            "1/1 [==============================] - 1s 933ms/step\n",
            "1/1 [==============================] - 0s 56ms/step\n"
          ]
        },
        {
          "output_type": "display_data",
          "data": {
            "text/plain": [
              "<Figure size 4000x2000 with 0 Axes>"
            ]
          },
          "metadata": {}
        },
        {
          "output_type": "display_data",
          "data": {
            "text/plain": [
              "<Figure size 800x600 with 12 Axes>"
            ],
            "image/png": "[encoded data removed]"
          },
          "metadata": {}
        }
      ]
    },
    {
      "cell_type": "markdown",
      "source": [
        "# Image Morphing"
      ],
      "metadata": {
        "id": "LpLTQY2XcIju"
      }
    },
    {
      "cell_type": "code",
      "source": [
        "x1 = x_test[:1]\n",
        "x2 = x_test[1:2]\n",
        "encoder = autoencoder.layers[0]\n",
        "latent1 = encoder.predict(x1)\n",
        "latent2 = encoder.predict(x2)\n",
        "print(latent1.shape)\n",
        "print(latent2.shape)"
      ],
      "metadata": {
        "colab": {
          "base_uri": "https://localhost:8080/"
        },
        "id": "ozDBNWPAbZ_3",
        "outputId": "6b8dec52-20d9-4bfc-b34f-1d19e7c52b42"
      },
      "execution_count": null,
      "outputs": [
        {
          "output_type": "stream",
          "name": "stdout",
          "text": [
            "1/1 [==============================] - 0s 23ms/step\n",
            "1/1 [==============================] - 0s 16ms/step\n",
            "(1, 7, 7, 128)\n",
            "(1, 7, 7, 128)\n"
          ]
        }
      ]
    },
    {
      "cell_type": "code",
      "source": [
        "latent_sweep = []\n",
        "for alpha in np.linspace(0, 1, 5):\n",
        "    intermediate_latent = alpha * latent1 + (1 - alpha) * latent2\n",
        "    latent_sweep.append(intermediate_latent)"
      ],
      "metadata": {
        "id": "f624jRZeb9Mq"
      },
      "execution_count": null,
      "outputs": []
    },
    {
      "cell_type": "code",
      "source": [
        "decoder = autoencoder.layers[1]\n",
        "output_list = []\n",
        "for latent in latent_sweep:\n",
        "    output = decoder.predict(latent)\n",
        "    output_list.append(output)"
      ],
      "metadata": {
        "colab": {
          "base_uri": "https://localhost:8080/"
        },
        "id": "3u9Yo29fb3k7",
        "outputId": "1ee1ad81-5735-4983-ae45-6fb18b5c910c"
      },
      "execution_count": null,
      "outputs": [
        {
          "output_type": "stream",
          "name": "stdout",
          "text": [
            "1/1 [==============================] - 0s 24ms/step\n",
            "1/1 [==============================] - 0s 23ms/step\n",
            "1/1 [==============================] - 0s 22ms/step\n",
            "1/1 [==============================] - 0s 23ms/step\n",
            "1/1 [==============================] - 0s 32ms/step\n"
          ]
        }
      ]
    },
    {
      "cell_type": "code",
      "source": [
        "len(output_list)"
      ],
      "metadata": {
        "id": "y8J2x2L-eo-P",
        "outputId": "41a0fca9-a364-4615-a882-1bbcf24f4a3a",
        "colab": {
          "base_uri": "https://localhost:8080/"
        }
      },
      "execution_count": null,
      "outputs": [
        {
          "output_type": "execute_result",
          "data": {
            "text/plain": [
              "5"
            ]
          },
          "metadata": {},
          "execution_count": 93
        }
      ]
    },
    {
      "cell_type": "code",
      "source": [
        "nrows = 1\n",
        "ncols = len(output_list)\n",
        "figdim = 2\n",
        "fig, axs = plt.subplots(nrows=nrows, ncols=n_images, figsize=(figdim*n_images, figdim*nrows))\n",
        "\n",
        "for i in range(len(output_list)):\n",
        "    output = output_list[i][0]\n",
        "    print(output.shape)\n",
        "    axs[i].imshow(output, cmap='gray')\n",
        "    axs[i].get_xaxis().set_visible(False)\n",
        "    axs[i].get_yaxis().set_visible(False)\n",
        "fig.tight_layout()\n",
        "fig.show()"
      ],
      "metadata": {
        "colab": {
          "base_uri": "https://localhost:8080/",
          "height": 459
        },
        "id": "hbhB5UPBcIGg",
        "outputId": "dd6b3b76-e4f1-4a9a-a951-8213d7e90367"
      },
      "execution_count": null,
      "outputs": [
        {
          "output_type": "stream",
          "name": "stdout",
          "text": [
            "(28, 28, 1)\n",
            "(28, 28, 1)\n",
            "(28, 28, 1)\n",
            "(28, 28, 1)\n",
            "(28, 28, 1)\n"
          ]
        },
        {
          "output_type": "error",
          "ename": "IndexError",
          "evalue": "index 4 is out of bounds for axis 0 with size 4",
          "traceback": [
            "\u001b[0;31m---------------------------------------------------------------------------\u001b[0m",
            "\u001b[0;31mIndexError\u001b[0m                                Traceback (most recent call last)",
            "\u001b[0;32m<ipython-input-91-bd8ff796054a>\u001b[0m in \u001b[0;36m<cell line: 6>\u001b[0;34m()\u001b[0m\n\u001b[1;32m      7\u001b[0m     \u001b[0moutput\u001b[0m \u001b[0;34m=\u001b[0m \u001b[0moutput_list\u001b[0m\u001b[0;34m[\u001b[0m\u001b[0mi\u001b[0m\u001b[0;34m]\u001b[0m\u001b[0;34m[\u001b[0m\u001b[0;36m0\u001b[0m\u001b[0;34m]\u001b[0m\u001b[0;34m\u001b[0m\u001b[0;34m\u001b[0m\u001b[0m\n\u001b[1;32m      8\u001b[0m     \u001b[0mprint\u001b[0m\u001b[0;34m(\u001b[0m\u001b[0moutput\u001b[0m\u001b[0;34m.\u001b[0m\u001b[0mshape\u001b[0m\u001b[0;34m)\u001b[0m\u001b[0;34m\u001b[0m\u001b[0;34m\u001b[0m\u001b[0m\n\u001b[0;32m----> 9\u001b[0;31m     \u001b[0maxs\u001b[0m\u001b[0;34m[\u001b[0m\u001b[0mi\u001b[0m\u001b[0;34m]\u001b[0m\u001b[0;34m.\u001b[0m\u001b[0mimshow\u001b[0m\u001b[0;34m(\u001b[0m\u001b[0moutput\u001b[0m\u001b[0;34m,\u001b[0m \u001b[0mcmap\u001b[0m\u001b[0;34m=\u001b[0m\u001b[0;34m'gray'\u001b[0m\u001b[0;34m)\u001b[0m\u001b[0;34m\u001b[0m\u001b[0;34m\u001b[0m\u001b[0m\n\u001b[0m\u001b[1;32m     10\u001b[0m     \u001b[0maxs\u001b[0m\u001b[0;34m[\u001b[0m\u001b[0mi\u001b[0m\u001b[0;34m]\u001b[0m\u001b[0;34m.\u001b[0m\u001b[0mget_xaxis\u001b[0m\u001b[0;34m(\u001b[0m\u001b[0;34m)\u001b[0m\u001b[0;34m.\u001b[0m\u001b[0mset_visible\u001b[0m\u001b[0;34m(\u001b[0m\u001b[0;32mFalse\u001b[0m\u001b[0;34m)\u001b[0m\u001b[0;34m\u001b[0m\u001b[0;34m\u001b[0m\u001b[0m\n\u001b[1;32m     11\u001b[0m     \u001b[0maxs\u001b[0m\u001b[0;34m[\u001b[0m\u001b[0mi\u001b[0m\u001b[0;34m]\u001b[0m\u001b[0;34m.\u001b[0m\u001b[0mget_yaxis\u001b[0m\u001b[0;34m(\u001b[0m\u001b[0;34m)\u001b[0m\u001b[0;34m.\u001b[0m\u001b[0mset_visible\u001b[0m\u001b[0;34m(\u001b[0m\u001b[0;32mFalse\u001b[0m\u001b[0;34m)\u001b[0m\u001b[0;34m\u001b[0m\u001b[0;34m\u001b[0m\u001b[0m\n",
            "\u001b[0;31mIndexError\u001b[0m: index 4 is out of bounds for axis 0 with size 4"
          ]
        },
        {
          "output_type": "display_data",
          "data": {
            "text/plain": [
              "<Figure size 800x200 with 4 Axes>"
            ],
            "image/png": "[encoded data removed]"
          },
          "metadata": {}
        }
      ]
    }
  ]
}