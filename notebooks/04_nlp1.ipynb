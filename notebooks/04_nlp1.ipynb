{
  "nbformat": 4,
  "nbformat_minor": 0,
  "metadata": {
    "colab": {
      "provenance": [],
      "gpuType": "T4",
      "toc_visible": true,
      "authorship_tag": "ABX9TyMoQo3faoOCqGSXXXgY1UK0",
      "include_colab_link": true
    },
    "kernelspec": {
      "name": "python3",
      "display_name": "Python 3"
    },
    "language_info": {
      "name": "python"
    },
    "accelerator": "GPU"
  },
  "cells": [
    {
      "cell_type": "markdown",
      "metadata": {
        "id": "view-in-github",
        "colab_type": "text"
      },
      "source": [
        "<a href=\"https://colab.research.google.com/github/DanieleAngioni97/Introductory-Seminar-PyTorch/blob/main/notebooks/04_nlp1.ipynb\" target=\"_parent\"><img src=\"https://colab.research.google.com/assets/colab-badge.svg\" alt=\"Open In Colab\"/></a>"
      ]
    },
    {
      "cell_type": "markdown",
      "source": [
        "# Character-level generation with RNNs"
      ],
      "metadata": {
        "id": "7pS0yurQdlNy"
      }
    },
    {
      "cell_type": "markdown",
      "source": [
        "# Data preparation"
      ],
      "metadata": {
        "id": "lR6HvGNWiGmv"
      }
    },
    {
      "cell_type": "code",
      "source": [
        "# data: https://download.pytorch.org/tutorial/data.zip\n",
        "import io\n",
        "import os\n",
        "import unicodedata\n",
        "import string\n",
        "import requests\n",
        "import zipfile\n",
        "import torch\n",
        "import random"
      ],
      "metadata": {
        "id": "7NXzyTxxRTUD"
      },
      "execution_count": 83,
      "outputs": []
    },
    {
      "cell_type": "markdown",
      "source": [
        "## Defining the alphabet and the preprocessing"
      ],
      "metadata": {
        "id": "2J1F2hA9dV1r"
      }
    },
    {
      "cell_type": "markdown",
      "source": [
        "First, we define the set of all letters as the ASCII characters."
      ],
      "metadata": {
        "id": "EsgHgUIW2C00"
      }
    },
    {
      "cell_type": "code",
      "source": [
        "# alphabet small + capital letters + \" .,;'\"\n",
        "ALL_LETTERS = string.ascii_letters + \" .,;'\"\n",
        "N_LETTERS = len(ALL_LETTERS)\n",
        "EOS = '.'\n",
        "\n",
        "print(f\"Number of letters: {N_LETTERS}\")\n",
        "print(f\"All letters: \\n{ALL_LETTERS}\")"
      ],
      "metadata": {
        "id": "v19lCb2ORYp-",
        "colab": {
          "base_uri": "https://localhost:8080/"
        },
        "outputId": "3290e24a-0e2d-4ac7-d16a-fcdb01c8a4e6"
      },
      "execution_count": 91,
      "outputs": [
        {
          "output_type": "stream",
          "name": "stdout",
          "text": [
            "Number of letters: 57\n",
            "All letters: \n",
            "abcdefghijklmnopqrstuvwxyzABCDEFGHIJKLMNOPQRSTUVWXYZ .,;'\n"
          ]
        }
      ]
    },
    {
      "cell_type": "code",
      "source": [
        "# Turn a Unicode string to plain ASCII, thanks to https://stackoverflow.com/a/518232/2809427\n",
        "def unicode_to_ascii(s):\n",
        "    return ''.join(\n",
        "        c for c in unicodedata.normalize('NFD', s)\n",
        "        if unicodedata.category(c) != 'Mn'\n",
        "        and c in ALL_LETTERS)\n",
        "\n",
        "print(f\"Unicode: 'Ślusàrski' ---> ASCII: {unicode_to_ascii('Ślusàrski')}\")"
      ],
      "metadata": {
        "colab": {
          "base_uri": "https://localhost:8080/"
        },
        "id": "NBAaKyt-1fG_",
        "outputId": "4d33bcfb-5af0-4b5a-a527-88b7ebda9f26"
      },
      "execution_count": 92,
      "outputs": [
        {
          "output_type": "stream",
          "name": "stdout",
          "text": [
            "Unicode: 'Ślusàrski' ---> ASCII: Slusarski\n"
          ]
        }
      ]
    },
    {
      "cell_type": "markdown",
      "source": [
        "## Converting a letter to an index"
      ],
      "metadata": {
        "id": "kS6n_UzgdLxa"
      }
    },
    {
      "cell_type": "code",
      "source": [
        "# Find letter index from all_letters, e.g. \"a\" = 0\n",
        "def letter_to_index(letter):\n",
        "    return ALL_LETTERS.index(letter)\n",
        "\n",
        "print(letter_to_index('h'))\n",
        "print(letter_to_index('e'))\n",
        "print(letter_to_index('l'))\n",
        "print(letter_to_index('l'))\n",
        "print(letter_to_index('o'))"
      ],
      "metadata": {
        "colab": {
          "base_uri": "https://localhost:8080/"
        },
        "id": "uDhlO4KJcY6N",
        "outputId": "df214a80-01f9-477a-c6ec-aecc54d2d2ea"
      },
      "execution_count": 93,
      "outputs": [
        {
          "output_type": "stream",
          "name": "stdout",
          "text": [
            "7\n",
            "4\n",
            "11\n",
            "11\n",
            "14\n"
          ]
        }
      ]
    },
    {
      "cell_type": "code",
      "source": [
        "def line_to_index(line):\n",
        "    return [letter_to_index(l) for l in line]\n",
        "\n",
        "print(line_to_index('hello'))"
      ],
      "metadata": {
        "colab": {
          "base_uri": "https://localhost:8080/"
        },
        "id": "0d-NwB2agXG-",
        "outputId": "8e67acec-b267-44ff-a557-51ac8e8bef15"
      },
      "execution_count": 94,
      "outputs": [
        {
          "output_type": "stream",
          "name": "stdout",
          "text": [
            "[7, 4, 11, 11, 14]\n"
          ]
        }
      ]
    },
    {
      "cell_type": "code",
      "source": [
        "# turn a letter into a <1 x n_letters> Tensor\n",
        "def letter_to_tensor(letter):\n",
        "    tensor = torch.zeros(1, N_LETTERS)\n",
        "    tensor[0][letter_to_index(letter)] = 1\n",
        "    return tensor\n",
        "tensor = letter_to_tensor('a')\n",
        "print(tensor)\n",
        "print(tensor.shape)"
      ],
      "metadata": {
        "colab": {
          "base_uri": "https://localhost:8080/"
        },
        "id": "N_vitaBgcfLO",
        "outputId": "122cdf83-097d-4fc0-e0a6-07748d506edd"
      },
      "execution_count": 96,
      "outputs": [
        {
          "output_type": "stream",
          "name": "stdout",
          "text": [
            "tensor([[1., 0., 0., 0., 0., 0., 0., 0., 0., 0., 0., 0., 0., 0., 0., 0., 0., 0.,\n",
            "         0., 0., 0., 0., 0., 0., 0., 0., 0., 0., 0., 0., 0., 0., 0., 0., 0., 0.,\n",
            "         0., 0., 0., 0., 0., 0., 0., 0., 0., 0., 0., 0., 0., 0., 0., 0., 0., 0.,\n",
            "         0., 0., 0.]])\n",
            "torch.Size([1, 57])\n"
          ]
        }
      ]
    },
    {
      "cell_type": "code",
      "source": [
        "# Turn a line a tensor with the one-hot encodings of each letter\n",
        "\n",
        "def line_to_tensor(line):\n",
        "    tensor = torch.zeros(1, len(line), N_LETTERS)\n",
        "    for i, letter in enumerate(line):\n",
        "        tensor[0, i][letter_to_index(letter)] = 1\n",
        "    return tensor\n",
        "\n",
        "tensor = line_to_tensor('Hello')    # tensor shape: (sequence_len, 1, N_LETTERS)\n",
        "print(tensor.shape)"
      ],
      "metadata": {
        "colab": {
          "base_uri": "https://localhost:8080/"
        },
        "id": "zCbafoNBc0Sk",
        "outputId": "9d67048f-09b5-4c7b-be42-160eb3202731"
      },
      "execution_count": 125,
      "outputs": [
        {
          "output_type": "stream",
          "name": "stdout",
          "text": [
            "torch.Size([1, 5, 57])\n"
          ]
        }
      ]
    },
    {
      "cell_type": "code",
      "source": [
        "# ``LongTensor`` of second letter to end (EOS) for target\n",
        "def target_to_tensor(line):\n",
        "    target_line = line[1:] + EOS\n",
        "    target_idxs = [letter_to_index(t) for t in target_line]\n",
        "    target_tensor = torch.LongTensor(target_idxs)\n",
        "    return target_tensor\n",
        "\n",
        "name = 'Gennaro'\n",
        "print(line_to_index(name))\n",
        "target = target_to_tensor(name)\n",
        "print(target.tolist())"
      ],
      "metadata": {
        "colab": {
          "base_uri": "https://localhost:8080/"
        },
        "id": "t_C0vAgXdFaH",
        "outputId": "4bae8ef1-434c-4eb1-d04e-5fc26e000294"
      },
      "execution_count": 128,
      "outputs": [
        {
          "output_type": "stream",
          "name": "stdout",
          "text": [
            "[32, 4, 13, 13, 0, 17, 14]\n",
            "[4, 13, 13, 0, 17, 14, 53]\n"
          ]
        }
      ]
    },
    {
      "cell_type": "markdown",
      "source": [
        "# Loading the dataset"
      ],
      "metadata": {
        "id": "-krvF5p-deqN"
      }
    },
    {
      "cell_type": "markdown",
      "source": [
        "We now define some functions to load the data.\n"
      ],
      "metadata": {
        "id": "FKcQL4wz2gbS"
      }
    },
    {
      "cell_type": "code",
      "source": [
        "# download the dataset with names and categories\n",
        "def download_url(url, dir_path, zip_fname='data.zip', chunk_size=128):\n",
        "    # download and extract the zip file with the dataset\n",
        "    if not os.path.isdir(dir_path + '/' + 'data/names'):\n",
        "        r = requests.get(url, stream=True)\n",
        "        zip_path = dir_path + '/' + zip_fname\n",
        "        with open(zip_path, 'wb') as fd:\n",
        "            for chunk in r.iter_content(chunk_size=chunk_size):\n",
        "                fd.write(chunk)\n",
        "        with zipfile.ZipFile(zip_path, 'r') as zip_ref:\n",
        "            zip_ref.extractall(dir_path)\n",
        "\n",
        "# Read a file and split into lines\n",
        "def read_lines(filename):\n",
        "    lines = io.open(filename, encoding='utf-8').read().strip().split('\\n')\n",
        "    return [unicode_to_ascii(line) for line in lines]\n",
        "\n",
        "# download the data and return a dictionary (category_lines) with list of names for each category\n",
        "# and the list of all nationalities (all_categories)\n",
        "def load_data(data_path='./'):\n",
        "    # download the dataset\n",
        "    url = \"https://download.pytorch.org/tutorial/data.zip\"\n",
        "    dir_path = './'\n",
        "    download_url(url, dir_path=dir_path)\n",
        "    # Build the category_lines dictionary, a list of names per language\n",
        "    category_lines = {}\n",
        "    all_categories = []\n",
        "    dataset_path = os.path.join(data_path, 'data/names')\n",
        "\n",
        "    for filename in os.listdir(dataset_path):\n",
        "        category = os.path.splitext(os.path.basename(filename))[0]\n",
        "        all_categories.append(category)\n",
        "\n",
        "        lines = read_lines(os.path.join(dataset_path,filename))\n",
        "        category_lines[category] = lines\n",
        "\n",
        "    return category_lines, all_categories"
      ],
      "metadata": {
        "id": "8qazp3Kp1_rH"
      },
      "execution_count": 129,
      "outputs": []
    },
    {
      "cell_type": "markdown",
      "source": [
        "The `category_lines` variable is a python dictionary where the keys are the category (the nationality) and the items are a list of names of that nationality."
      ],
      "metadata": {
        "id": "sKvhHI853MmW"
      }
    },
    {
      "cell_type": "code",
      "source": [
        "category_lines, all_categories = load_data()"
      ],
      "metadata": {
        "id": "MTcE73cL2oNm"
      },
      "execution_count": 102,
      "outputs": []
    },
    {
      "cell_type": "code",
      "source": [
        "category_lines['Italian'][:10]"
      ],
      "metadata": {
        "colab": {
          "base_uri": "https://localhost:8080/"
        },
        "id": "EgO93ZPx2rUC",
        "outputId": "7be9ad71-c293-4b20-e712-0b5ffb7bed5b"
      },
      "execution_count": 104,
      "outputs": [
        {
          "output_type": "execute_result",
          "data": {
            "text/plain": [
              "['Abandonato',\n",
              " 'Abatangelo',\n",
              " 'Abatantuono',\n",
              " 'Abate',\n",
              " 'Abategiovanni',\n",
              " 'Abatescianni',\n",
              " 'Abba',\n",
              " 'Abbadelli',\n",
              " 'Abbascia',\n",
              " 'Abbatangelo']"
            ]
          },
          "metadata": {},
          "execution_count": 104
        }
      ]
    },
    {
      "cell_type": "code",
      "source": [
        "n_categories = len(all_categories)\n",
        "\n",
        "print(n_categories)\n",
        "print(all_categories)"
      ],
      "metadata": {
        "colab": {
          "base_uri": "https://localhost:8080/"
        },
        "id": "38Z_jo6Z3I5p",
        "outputId": "757de721-2e40-4d5f-e6be-b2e41bb0264c"
      },
      "execution_count": 105,
      "outputs": [
        {
          "output_type": "stream",
          "name": "stdout",
          "text": [
            "18\n",
            "['Vietnamese', 'German', 'Arabic', 'Dutch', 'Chinese', 'Spanish', 'Portuguese', 'Italian', 'Czech', 'Scottish', 'Japanese', 'English', 'Russian', 'Polish', 'Irish', 'Greek', 'Korean', 'French']\n"
          ]
        }
      ]
    },
    {
      "cell_type": "markdown",
      "source": [
        "## Picking samples randomly"
      ],
      "metadata": {
        "id": "95_oxOEKi6Bj"
      }
    },
    {
      "cell_type": "code",
      "source": [
        "def random_choice(list_):\n",
        "    random_idx = random.randint(0, len(list_) - 1)\n",
        "    return list_[random_idx]\n",
        "\n",
        "def random_training_example(category_lines, all_categories):\n",
        "    category = random_choice(all_categories)\n",
        "    line = random_choice(category_lines[category])\n",
        "    category_idx = all_categories.index(category)\n",
        "    category_tensor = torch.zeros(1, n_categories)\n",
        "    category_tensor[0][category_idx] = 1 # create one-hot encoding of category\n",
        "    line_tensor = line_to_tensor(line)\n",
        "    target_tensor = target_to_tensor(line)\n",
        "    return category_tensor, line_tensor, target_tensor\n",
        "\n",
        "c, l, t = random_training_example(category_lines, all_categories)\n",
        "print('Category shape', c.shape)\n",
        "print('Line shape', l.shape)\n",
        "print('Target shape', t.shape)"
      ],
      "metadata": {
        "colab": {
          "base_uri": "https://localhost:8080/"
        },
        "id": "wyRlBqQ8i8L8",
        "outputId": "d64d5de0-31a8-4146-ce12-df28bdb0b6b2"
      },
      "execution_count": 131,
      "outputs": [
        {
          "output_type": "stream",
          "name": "stdout",
          "text": [
            "Category shape torch.Size([1, 18])\n",
            "Line shape torch.Size([1, 9, 57])\n",
            "Target shape torch.Size([9])\n"
          ]
        }
      ]
    },
    {
      "cell_type": "markdown",
      "source": [
        "# Using Recurrent Neural Networks (RNNs)"
      ],
      "metadata": {
        "id": "O6zKMvfNvbl7"
      }
    },
    {
      "cell_type": "markdown",
      "source": [
        "## RNNs for unbatched inputs"
      ],
      "metadata": {
        "id": "NZnG8NLs-rVL"
      }
    },
    {
      "cell_type": "code",
      "source": [
        "import torch.nn as nn\n",
        "\n",
        "sequence_length = 16\n",
        "num_characters = 56\n",
        "\n",
        "hidden_size = 128\n",
        "num_layers = 2\n",
        "bidirectional = False\n",
        "D = 2 if bidirectional else 1\n",
        "\n",
        "rnn = nn.RNN(input_size=num_characters,\n",
        "             hidden_size=hidden_size,\n",
        "             num_layers=num_layers,\n",
        "             bidirectional=bidirectional)\n",
        "\n",
        "# each input in the sequence is one-hot-encoded\n",
        "input = torch.randn(sequence_length, num_characters)\n",
        "hidden = torch.zeros(D * num_layers, hidden_size)\n",
        "\n",
        "out, next_hidden = rnn(input, hidden)\n",
        "\n",
        "print(out.shape)\n",
        "print(next_hidden.shape)"
      ],
      "metadata": {
        "colab": {
          "base_uri": "https://localhost:8080/"
        },
        "id": "Ipmx72xJ-SL3",
        "outputId": "c45bc0f5-d585-479e-d3a8-9216b5a42342"
      },
      "execution_count": 110,
      "outputs": [
        {
          "output_type": "stream",
          "name": "stdout",
          "text": [
            "torch.Size([16, 128])\n",
            "torch.Size([2, 128])\n"
          ]
        }
      ]
    },
    {
      "cell_type": "markdown",
      "source": [
        "## RNNs for batched inputs\n",
        "Here we must tell the RNN model to consider the batch size as the first dimension by setting `batch_first=True`."
      ],
      "metadata": {
        "id": "NXKqXy1kAgQ7"
      }
    },
    {
      "cell_type": "code",
      "source": [
        "import torch.nn as nn\n",
        "\n",
        "sequence_length = 16\n",
        "num_characters = 56\n",
        "batch_size = 64\n",
        "\n",
        "hidden_size = 128\n",
        "num_layers = 2\n",
        "bidirectional = False\n",
        "D = 2 if bidirectional else 1\n",
        "\n",
        "rnn = nn.RNN(input_size=num_characters,\n",
        "             hidden_size=hidden_size,\n",
        "             num_layers=num_layers,\n",
        "             bidirectional=bidirectional,\n",
        "             batch_first=True)\n",
        "\n",
        "# each input in the sequence is one-hot-encoded\n",
        "input = torch.randn(batch_size, sequence_length, num_characters)\n",
        "hidden = torch.zeros(D * num_layers, batch_size, hidden_size)\n",
        "\n",
        "out, next_hidden = rnn(input, hidden)\n",
        "\n",
        "print(out.shape)\n",
        "print(next_hidden.shape)"
      ],
      "metadata": {
        "colab": {
          "base_uri": "https://localhost:8080/"
        },
        "id": "K1ZErXxfAfQT",
        "outputId": "56aa64fd-6517-47e8-a879-2177e05797e1"
      },
      "execution_count": 111,
      "outputs": [
        {
          "output_type": "stream",
          "name": "stdout",
          "text": [
            "torch.Size([64, 16, 128])\n",
            "torch.Size([2, 64, 128])\n"
          ]
        }
      ]
    },
    {
      "cell_type": "markdown",
      "source": [
        "## Using default hidden state\n",
        "If we don't initialize the hidden state by hand, the RNN will initialize it internally to zero with the proper shape."
      ],
      "metadata": {
        "id": "1kLyKU2IDc7x"
      }
    },
    {
      "cell_type": "code",
      "source": [
        "import torch.nn as nn\n",
        "\n",
        "sequence_length = 16\n",
        "num_characters = 56\n",
        "batch_size = 64\n",
        "\n",
        "hidden_size = 128\n",
        "num_layers = 1\n",
        "bidirectional = False\n",
        "D = 2 if bidirectional else 1\n",
        "\n",
        "rnn = nn.RNN(input_size=num_characters,\n",
        "             hidden_size=hidden_size,\n",
        "             num_layers=num_layers,\n",
        "             bidirectional=bidirectional,\n",
        "             batch_first=True)\n",
        "\n",
        "# each input in the sequence is one-hot-encoded\n",
        "input = torch.randn(batch_size, sequence_length, num_characters)\n",
        "\n",
        "\n",
        "out, hidden = rnn(input)\n",
        "\n",
        "print(out.shape)\n",
        "print(hidden.shape)"
      ],
      "metadata": {
        "colab": {
          "base_uri": "https://localhost:8080/"
        },
        "id": "5LSrurSTDhIV",
        "outputId": "fac46f1d-fd99-4131-c80e-aee08055b8e5"
      },
      "execution_count": 112,
      "outputs": [
        {
          "output_type": "stream",
          "name": "stdout",
          "text": [
            "torch.Size([64, 16, 128])\n",
            "torch.Size([1, 64, 128])\n"
          ]
        }
      ]
    },
    {
      "cell_type": "markdown",
      "source": [
        "# RNN architecture for generating names"
      ],
      "metadata": {
        "id": "VrEScFwqBOSy"
      }
    },
    {
      "cell_type": "code",
      "source": [
        "import torch.nn as nn\n",
        "class RNN(nn.Module):\n",
        "    def __init__(self, input_size, hidden_size, output_size,\n",
        "                 n_categories, num_recurrent_layers=2):\n",
        "        super(RNN, self).__init__()\n",
        "        self.hidden_size = hidden_size\n",
        "        self.n_categories = n_categories\n",
        "        self.num_recurrent_layers = num_recurrent_layers\n",
        "        self.rnn = nn.GRU(input_size=input_size + n_categories,\n",
        "                          hidden_size=hidden_size,\n",
        "                          num_layers=num_recurrent_layers,\n",
        "                          batch_first=True)\n",
        "        self.linear = nn.Linear(hidden_size, output_size)\n",
        "\n",
        "    def forward(self, category_tensor, input_tensor, hidden_tensor):\n",
        "        input_combined = torch.cat((category_tensor, input_tensor), 1)\n",
        "        output, hidden = self.rnn(input_combined, hidden_tensor)\n",
        "        output = self.linear(output)\n",
        "        return output, hidden\n",
        "\n",
        "    def init_hidden(self):\n",
        "        return torch.zeros(self.num_recurrent_layers, self.hidden_size)\n",
        "\n",
        "category, line, target = random_training_example(category_lines, all_categories)\n",
        "rnn = RNN(input_size=N_LETTERS, hidden_size=128, output_size=N_LETTERS,\n",
        "          n_categories=n_categories, num_recurrent_layers=1)\n",
        "hidden = rnn.init_hidden()\n",
        "\n",
        "# iterate the sequence\n",
        "for i in range(line.shape[1]):\n",
        "    output, hidden = rnn(category, line[:, i], hidden)\n",
        "    break"
      ],
      "metadata": {
        "id": "56FcShbuykK1"
      },
      "execution_count": 157,
      "outputs": []
    },
    {
      "cell_type": "markdown",
      "source": [
        "# Training"
      ],
      "metadata": {
        "id": "lofy5b-dnz75"
      }
    },
    {
      "cell_type": "code",
      "source": [
        "from torch.optim import Adam\n",
        "\n",
        "def train(category_tensor, input_line_tensor, target_line_tensor,\n",
        "          criterion, optimizer, device):\n",
        "    category_tensor = category_tensor.to(device)\n",
        "    input_line_tensor = input_line_tensor.to(device)\n",
        "    target_line_tensor.unsqueeze_(-1)\n",
        "    hidden = rnn.init_hidden().to(device)\n",
        "\n",
        "    loss = 0\n",
        "    for i in range(input_line_tensor.shape[1]):  # iterate the sequence\n",
        "        output, hidden = rnn(category_tensor, input_line_tensor[:, i], hidden)\n",
        "        # Here I take into account each loss at each iteration\n",
        "        loss += criterion(output, target_line_tensor[i].to(device))\n",
        "\n",
        "    loss = loss / input_line_tensor.shape[1]    # average loss over the sequence\n",
        "    loss.backward()\n",
        "    optimizer.step()\n",
        "    optimizer.zero_grad()\n",
        "\n",
        "    return output, loss.item() / input_line_tensor.size(0)\n",
        "\n",
        "device = 'cuda' if torch.cuda.is_available() else 'cpu'\n",
        "assert device == 'cuda'\n",
        "\n",
        "category_lines, all_categories = load_data()\n",
        "n_categories = len(all_categories)\n",
        "\n",
        "n_iters = 10_000\n",
        "learning_rate = 1e-3\n",
        "rnn = RNN(input_size=N_LETTERS,\n",
        "          hidden_size=128,\n",
        "          output_size=N_LETTERS,\n",
        "          n_categories=n_categories,\n",
        "          num_recurrent_layers=3).to(device)\n",
        "optimizer = Adam(rnn.parameters(), lr=learning_rate)\n",
        "criterion = nn.CrossEntropyLoss()\n",
        "\n",
        "current_loss = 0\n",
        "all_losses = []\n",
        "print_steps = 100\n",
        "for iter in range(n_iters):\n",
        "    data = random_training_example(category_lines, all_categories)\n",
        "    category_tensor, line_tensor, target_tensor = data\n",
        "\n",
        "    output, loss = train(category_tensor, line_tensor, target_tensor,\n",
        "                         criterion, optimizer, device)\n",
        "\n",
        "    current_loss += loss\n",
        "    if (iter + 1) % print_steps == 0:\n",
        "        current_loss /= print_steps\n",
        "        all_losses.append(current_loss)\n",
        "        print(f\"[{(iter + 1)/n_iters * 100:.2f}%] -  Loss: {current_loss:.4f}\")\n",
        "        current_loss = 0\n",
        "\n",
        "torch.save(rnn.state_dict(), 'data/rnn_gen.pt')"
      ],
      "metadata": {
        "id": "1CE5WQJQYj_G",
        "colab": {
          "base_uri": "https://localhost:8080/"
        },
        "outputId": "ad64f3ae-5975-4a81-8d9a-afe3186c1a95"
      },
      "execution_count": 152,
      "outputs": [
        {
          "output_type": "stream",
          "name": "stdout",
          "text": [
            "[1.00%] -  Loss: 3.1631\n",
            "[2.00%] -  Loss: 2.8029\n",
            "[3.00%] -  Loss: 2.7648\n",
            "[4.00%] -  Loss: 2.6766\n",
            "[5.00%] -  Loss: 2.6917\n",
            "[6.00%] -  Loss: 2.5077\n",
            "[7.00%] -  Loss: 2.5254\n",
            "[8.00%] -  Loss: 2.5148\n",
            "[9.00%] -  Loss: 2.4449\n",
            "[10.00%] -  Loss: 2.3419\n",
            "[11.00%] -  Loss: 2.4415\n",
            "[12.00%] -  Loss: 2.3775\n",
            "[13.00%] -  Loss: 2.4735\n",
            "[14.00%] -  Loss: 2.4178\n",
            "[15.00%] -  Loss: 2.4333\n",
            "[16.00%] -  Loss: 2.3615\n",
            "[17.00%] -  Loss: 2.2411\n",
            "[18.00%] -  Loss: 2.3939\n",
            "[19.00%] -  Loss: 2.3166\n",
            "[20.00%] -  Loss: 2.3019\n",
            "[21.00%] -  Loss: 2.3297\n",
            "[22.00%] -  Loss: 2.2980\n",
            "[23.00%] -  Loss: 2.3221\n",
            "[24.00%] -  Loss: 2.2676\n",
            "[25.00%] -  Loss: 2.2733\n",
            "[26.00%] -  Loss: 2.2904\n",
            "[27.00%] -  Loss: 2.2113\n",
            "[28.00%] -  Loss: 2.2507\n",
            "[29.00%] -  Loss: 2.2818\n",
            "[30.00%] -  Loss: 2.2010\n",
            "[31.00%] -  Loss: 2.2354\n",
            "[32.00%] -  Loss: 2.1549\n",
            "[33.00%] -  Loss: 2.2003\n",
            "[34.00%] -  Loss: 2.1894\n",
            "[35.00%] -  Loss: 2.1800\n",
            "[36.00%] -  Loss: 2.1959\n",
            "[37.00%] -  Loss: 2.2877\n",
            "[38.00%] -  Loss: 2.2391\n",
            "[39.00%] -  Loss: 2.2065\n",
            "[40.00%] -  Loss: 2.2147\n",
            "[41.00%] -  Loss: 2.1885\n",
            "[42.00%] -  Loss: 2.2360\n",
            "[43.00%] -  Loss: 2.1413\n",
            "[44.00%] -  Loss: 2.1964\n",
            "[45.00%] -  Loss: 2.0277\n",
            "[46.00%] -  Loss: 2.1781\n",
            "[47.00%] -  Loss: 2.1646\n",
            "[48.00%] -  Loss: 2.0477\n",
            "[49.00%] -  Loss: 2.0595\n",
            "[50.00%] -  Loss: 2.1597\n",
            "[51.00%] -  Loss: 2.0249\n",
            "[52.00%] -  Loss: 2.1138\n",
            "[53.00%] -  Loss: 2.0925\n",
            "[54.00%] -  Loss: 2.1584\n",
            "[55.00%] -  Loss: 2.0772\n",
            "[56.00%] -  Loss: 2.1528\n",
            "[57.00%] -  Loss: 2.0633\n",
            "[58.00%] -  Loss: 2.1297\n",
            "[59.00%] -  Loss: 2.0290\n",
            "[60.00%] -  Loss: 2.1267\n",
            "[61.00%] -  Loss: 2.1155\n",
            "[62.00%] -  Loss: 2.1282\n",
            "[63.00%] -  Loss: 2.1969\n",
            "[64.00%] -  Loss: 2.0504\n",
            "[65.00%] -  Loss: 2.0198\n",
            "[66.00%] -  Loss: 2.0176\n",
            "[67.00%] -  Loss: 2.0678\n",
            "[68.00%] -  Loss: 2.0922\n",
            "[69.00%] -  Loss: 2.0463\n",
            "[70.00%] -  Loss: 2.0477\n",
            "[71.00%] -  Loss: 1.9355\n",
            "[72.00%] -  Loss: 2.0664\n",
            "[73.00%] -  Loss: 2.0455\n",
            "[74.00%] -  Loss: 1.9703\n",
            "[75.00%] -  Loss: 1.9676\n",
            "[76.00%] -  Loss: 2.0271\n",
            "[77.00%] -  Loss: 2.0220\n",
            "[78.00%] -  Loss: 2.0048\n",
            "[79.00%] -  Loss: 1.9893\n",
            "[80.00%] -  Loss: 2.0789\n",
            "[81.00%] -  Loss: 2.0266\n",
            "[82.00%] -  Loss: 1.8844\n",
            "[83.00%] -  Loss: 2.0020\n",
            "[84.00%] -  Loss: 1.9781\n",
            "[85.00%] -  Loss: 1.9375\n",
            "[86.00%] -  Loss: 2.0314\n",
            "[87.00%] -  Loss: 1.9532\n",
            "[88.00%] -  Loss: 1.9355\n",
            "[89.00%] -  Loss: 2.0048\n",
            "[90.00%] -  Loss: 1.8749\n",
            "[91.00%] -  Loss: 1.9369\n",
            "[92.00%] -  Loss: 1.9254\n",
            "[93.00%] -  Loss: 1.9757\n",
            "[94.00%] -  Loss: 1.8895\n",
            "[95.00%] -  Loss: 2.0528\n",
            "[96.00%] -  Loss: 1.9225\n",
            "[97.00%] -  Loss: 1.9196\n",
            "[98.00%] -  Loss: 1.8589\n",
            "[99.00%] -  Loss: 2.0093\n",
            "[100.00%] -  Loss: 1.9251\n"
          ]
        }
      ]
    },
    {
      "cell_type": "code",
      "source": [
        "import matplotlib.pyplot as plt\n",
        "plt.figure()\n",
        "plt.plot(all_losses)\n",
        "plt.show()"
      ],
      "metadata": {
        "colab": {
          "base_uri": "https://localhost:8080/",
          "height": 430
        },
        "id": "YwZi92zK1P83",
        "outputId": "a6b7b810-a404-4f01-a0fd-8d64ca689ff6"
      },
      "execution_count": 153,
      "outputs": [
        {
          "output_type": "display_data",
          "data": {
            "text/plain": [
              "<Figure size 640x480 with 1 Axes>"
            ],
            "image/png": "[encoded data removed]"
          },
          "metadata": {}
        }
      ]
    },
    {
      "cell_type": "markdown",
      "source": [
        "# Evaluating"
      ],
      "metadata": {
        "id": "D_kir2con3v_"
      }
    },
    {
      "cell_type": "code",
      "source": [
        "from torch.nn import Softmax\n",
        "\n",
        "rnn = RNN(input_size=N_LETTERS,\n",
        "          hidden_size=128,\n",
        "          output_size=N_LETTERS,\n",
        "          n_categories=n_categories,\n",
        "          num_recurrent_layers=3)\n",
        "rnn.load_state_dict(torch.load('data/rnn_gen.pt'))\n",
        "max_length = 20\n",
        "\n",
        "from torch.nn import Softmax\n",
        "# Sample from a category and starting letter\n",
        "def sample(rnn, category, start_letter='A', temperature=0.8):\n",
        "    with torch.no_grad():\n",
        "        category_idx = all_categories.index(category)   # pick the index of the category\n",
        "\n",
        "        # make one-hot of category\n",
        "        category_tensor = torch.zeros(1, n_categories)\n",
        "        category_tensor[0][category_idx] = 1\n",
        "\n",
        "        input = line_to_tensor(start_letter)\n",
        "        hidden = rnn.init_hidden()\n",
        "\n",
        "        output_name = start_letter  # initialize the output string\n",
        "        for i in range(max_length):\n",
        "            output, hidden = rnn(category_tensor, input[0], hidden)\n",
        "\n",
        "            # obtain the probability distribution over the alphabet\n",
        "            probs = Softmax(dim=1)(output / temperature)\n",
        "\n",
        "            # instead of picking the argmax here we sample from the probability\n",
        "            # distribution to obtain more variability in the generation\n",
        "            next_char = torch.multinomial(probs, num_samples=1)\n",
        "\n",
        "            # here next char is a tensor of shape (1, 1)\n",
        "            # we pick the item and compare the predicted index with the index of the EOS character\n",
        "            if next_char.item() == letter_to_index(EOS):\n",
        "                break   # break if the model predicted the EOS\n",
        "            else:\n",
        "                letter = ALL_LETTERS[next_char]\n",
        "                output_name += letter\n",
        "            input = line_to_tensor(letter)\n",
        "\n",
        "        check = 'NEW' if output_name not in category_lines[category] else 'EXISTING'\n",
        "        print(f\"{output_name} ({check})\")\n",
        "        return output_name\n",
        "\n",
        "a = sample(rnn, 'Italian', start_letter='A')"
      ],
      "metadata": {
        "colab": {
          "base_uri": "https://localhost:8080/"
        },
        "id": "WDV3H8JFh3oS",
        "outputId": "296cfa71-3633-4f01-ca97-4e9c21cd8463"
      },
      "execution_count": 155,
      "outputs": [
        {
          "output_type": "stream",
          "name": "stdout",
          "text": [
            "Arrini (NEW)\n"
          ]
        }
      ]
    },
    {
      "cell_type": "code",
      "source": [
        "def samples(rnn, category, start_letters):\n",
        "    print(\"### Category: \", category)\n",
        "    for start_letter in start_letters:\n",
        "        sample(rnn, category, start_letter=start_letter)\n",
        "\n",
        "samples(rnn, 'Italian', 'ABC')\n",
        "samples(rnn, 'English', 'ABC')\n",
        "samples(rnn, 'Chinese', 'ABC')\n",
        "samples(rnn, 'Russian', 'ABC')"
      ],
      "metadata": {
        "id": "7xwD3-qImK6B",
        "colab": {
          "base_uri": "https://localhost:8080/"
        },
        "outputId": "83fe0b44-f734-42e0-9721-5b28df720e55"
      },
      "execution_count": 156,
      "outputs": [
        {
          "output_type": "stream",
          "name": "stdout",
          "text": [
            "### Category:  Italian\n",
            "Astinina (NEW)\n",
            "Bagao (NEW)\n",
            "Candan (NEW)\n",
            "### Category:  English\n",
            "And (NEW)\n",
            "Babhirss (NEW)\n",
            "Caar (NEW)\n",
            "### Category:  Chinese\n",
            "Ang (EXISTING)\n",
            "Bung (NEW)\n",
            "Chu (EXISTING)\n",
            "### Category:  Russian\n",
            "Ajtin (NEW)\n",
            "Barann (NEW)\n",
            "Cammon (NEW)\n"
          ]
        }
      ]
    }
  ]
}